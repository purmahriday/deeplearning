{
 "cells": [
  {
   "metadata": {},
   "cell_type": "markdown",
   "source": "# Team Galaxy Assignment 01",
   "id": "b29d2bd24b53db5d"
  },
  {
   "metadata": {},
   "cell_type": "markdown",
   "source": "### A. Importing Libraries",
   "id": "fb760cc679e8fa24"
  },
  {
   "metadata": {
    "ExecuteTime": {
     "end_time": "2025-02-23T20:01:04.793047Z",
     "start_time": "2025-02-23T20:01:02.665805Z"
    }
   },
   "cell_type": "code",
   "source": [
    "import torch\n",
    "import pandas as pd\n",
    "import torch.nn as nn\n",
    "from sklearn.preprocessing import LabelEncoder"
   ],
   "id": "e521914594b1f782",
   "outputs": [],
   "execution_count": 4
  },
  {
   "metadata": {},
   "cell_type": "markdown",
   "source": "### B. Importing data to Panda Dataframe",
   "id": "c7b0c7933b394fd1"
  },
  {
   "metadata": {
    "ExecuteTime": {
     "end_time": "2025-02-23T20:01:05.626605Z",
     "start_time": "2025-02-23T20:01:05.274884Z"
    }
   },
   "cell_type": "code",
   "source": [
    "url = 'https://raw.githubusercontent.com/m-bermudez/ISM6251-ML-Project/refs/heads/main/EmployeeAttrition.csv'\n",
    "df = pd.read_csv(url)\n",
    "df.head()"
   ],
   "id": "cfd3c58974ef965f",
   "outputs": [
    {
     "data": {
      "text/plain": [
       "   Age Attrition     BusinessTravel  DailyRate              Department  \\\n",
       "0   41       Yes      Travel_Rarely       1102                   Sales   \n",
       "1   49        No  Travel_Frequently        279  Research & Development   \n",
       "2   37       Yes      Travel_Rarely       1373  Research & Development   \n",
       "3   33        No  Travel_Frequently       1392  Research & Development   \n",
       "4   27        No      Travel_Rarely        591  Research & Development   \n",
       "\n",
       "   DistanceFromHome  Education EducationField  EmployeeCount  EmployeeNumber  \\\n",
       "0                 1          2  Life Sciences              1               1   \n",
       "1                 8          1  Life Sciences              1               2   \n",
       "2                 2          2          Other              1               4   \n",
       "3                 3          4  Life Sciences              1               5   \n",
       "4                 2          1        Medical              1               7   \n",
       "\n",
       "   ...  RelationshipSatisfaction StandardHours  StockOptionLevel  \\\n",
       "0  ...                         1            80                 0   \n",
       "1  ...                         4            80                 1   \n",
       "2  ...                         2            80                 0   \n",
       "3  ...                         3            80                 0   \n",
       "4  ...                         4            80                 1   \n",
       "\n",
       "   TotalWorkingYears  TrainingTimesLastYear WorkLifeBalance  YearsAtCompany  \\\n",
       "0                  8                      0               1               6   \n",
       "1                 10                      3               3              10   \n",
       "2                  7                      3               3               0   \n",
       "3                  8                      3               3               8   \n",
       "4                  6                      3               3               2   \n",
       "\n",
       "  YearsInCurrentRole  YearsSinceLastPromotion  YearsWithCurrManager  \n",
       "0                  4                        0                     5  \n",
       "1                  7                        1                     7  \n",
       "2                  0                        0                     0  \n",
       "3                  7                        3                     0  \n",
       "4                  2                        2                     2  \n",
       "\n",
       "[5 rows x 35 columns]"
      ],
      "text/html": [
       "<div>\n",
       "<style scoped>\n",
       "    .dataframe tbody tr th:only-of-type {\n",
       "        vertical-align: middle;\n",
       "    }\n",
       "\n",
       "    .dataframe tbody tr th {\n",
       "        vertical-align: top;\n",
       "    }\n",
       "\n",
       "    .dataframe thead th {\n",
       "        text-align: right;\n",
       "    }\n",
       "</style>\n",
       "<table border=\"1\" class=\"dataframe\">\n",
       "  <thead>\n",
       "    <tr style=\"text-align: right;\">\n",
       "      <th></th>\n",
       "      <th>Age</th>\n",
       "      <th>Attrition</th>\n",
       "      <th>BusinessTravel</th>\n",
       "      <th>DailyRate</th>\n",
       "      <th>Department</th>\n",
       "      <th>DistanceFromHome</th>\n",
       "      <th>Education</th>\n",
       "      <th>EducationField</th>\n",
       "      <th>EmployeeCount</th>\n",
       "      <th>EmployeeNumber</th>\n",
       "      <th>...</th>\n",
       "      <th>RelationshipSatisfaction</th>\n",
       "      <th>StandardHours</th>\n",
       "      <th>StockOptionLevel</th>\n",
       "      <th>TotalWorkingYears</th>\n",
       "      <th>TrainingTimesLastYear</th>\n",
       "      <th>WorkLifeBalance</th>\n",
       "      <th>YearsAtCompany</th>\n",
       "      <th>YearsInCurrentRole</th>\n",
       "      <th>YearsSinceLastPromotion</th>\n",
       "      <th>YearsWithCurrManager</th>\n",
       "    </tr>\n",
       "  </thead>\n",
       "  <tbody>\n",
       "    <tr>\n",
       "      <th>0</th>\n",
       "      <td>41</td>\n",
       "      <td>Yes</td>\n",
       "      <td>Travel_Rarely</td>\n",
       "      <td>1102</td>\n",
       "      <td>Sales</td>\n",
       "      <td>1</td>\n",
       "      <td>2</td>\n",
       "      <td>Life Sciences</td>\n",
       "      <td>1</td>\n",
       "      <td>1</td>\n",
       "      <td>...</td>\n",
       "      <td>1</td>\n",
       "      <td>80</td>\n",
       "      <td>0</td>\n",
       "      <td>8</td>\n",
       "      <td>0</td>\n",
       "      <td>1</td>\n",
       "      <td>6</td>\n",
       "      <td>4</td>\n",
       "      <td>0</td>\n",
       "      <td>5</td>\n",
       "    </tr>\n",
       "    <tr>\n",
       "      <th>1</th>\n",
       "      <td>49</td>\n",
       "      <td>No</td>\n",
       "      <td>Travel_Frequently</td>\n",
       "      <td>279</td>\n",
       "      <td>Research &amp; Development</td>\n",
       "      <td>8</td>\n",
       "      <td>1</td>\n",
       "      <td>Life Sciences</td>\n",
       "      <td>1</td>\n",
       "      <td>2</td>\n",
       "      <td>...</td>\n",
       "      <td>4</td>\n",
       "      <td>80</td>\n",
       "      <td>1</td>\n",
       "      <td>10</td>\n",
       "      <td>3</td>\n",
       "      <td>3</td>\n",
       "      <td>10</td>\n",
       "      <td>7</td>\n",
       "      <td>1</td>\n",
       "      <td>7</td>\n",
       "    </tr>\n",
       "    <tr>\n",
       "      <th>2</th>\n",
       "      <td>37</td>\n",
       "      <td>Yes</td>\n",
       "      <td>Travel_Rarely</td>\n",
       "      <td>1373</td>\n",
       "      <td>Research &amp; Development</td>\n",
       "      <td>2</td>\n",
       "      <td>2</td>\n",
       "      <td>Other</td>\n",
       "      <td>1</td>\n",
       "      <td>4</td>\n",
       "      <td>...</td>\n",
       "      <td>2</td>\n",
       "      <td>80</td>\n",
       "      <td>0</td>\n",
       "      <td>7</td>\n",
       "      <td>3</td>\n",
       "      <td>3</td>\n",
       "      <td>0</td>\n",
       "      <td>0</td>\n",
       "      <td>0</td>\n",
       "      <td>0</td>\n",
       "    </tr>\n",
       "    <tr>\n",
       "      <th>3</th>\n",
       "      <td>33</td>\n",
       "      <td>No</td>\n",
       "      <td>Travel_Frequently</td>\n",
       "      <td>1392</td>\n",
       "      <td>Research &amp; Development</td>\n",
       "      <td>3</td>\n",
       "      <td>4</td>\n",
       "      <td>Life Sciences</td>\n",
       "      <td>1</td>\n",
       "      <td>5</td>\n",
       "      <td>...</td>\n",
       "      <td>3</td>\n",
       "      <td>80</td>\n",
       "      <td>0</td>\n",
       "      <td>8</td>\n",
       "      <td>3</td>\n",
       "      <td>3</td>\n",
       "      <td>8</td>\n",
       "      <td>7</td>\n",
       "      <td>3</td>\n",
       "      <td>0</td>\n",
       "    </tr>\n",
       "    <tr>\n",
       "      <th>4</th>\n",
       "      <td>27</td>\n",
       "      <td>No</td>\n",
       "      <td>Travel_Rarely</td>\n",
       "      <td>591</td>\n",
       "      <td>Research &amp; Development</td>\n",
       "      <td>2</td>\n",
       "      <td>1</td>\n",
       "      <td>Medical</td>\n",
       "      <td>1</td>\n",
       "      <td>7</td>\n",
       "      <td>...</td>\n",
       "      <td>4</td>\n",
       "      <td>80</td>\n",
       "      <td>1</td>\n",
       "      <td>6</td>\n",
       "      <td>3</td>\n",
       "      <td>3</td>\n",
       "      <td>2</td>\n",
       "      <td>2</td>\n",
       "      <td>2</td>\n",
       "      <td>2</td>\n",
       "    </tr>\n",
       "  </tbody>\n",
       "</table>\n",
       "<p>5 rows × 35 columns</p>\n",
       "</div>"
      ]
     },
     "execution_count": 5,
     "metadata": {},
     "output_type": "execute_result"
    }
   ],
   "execution_count": 5
  },
  {
   "metadata": {},
   "cell_type": "markdown",
   "source": "### C. Re-factoring the Data",
   "id": "7eb848727f5834ed"
  },
  {
   "metadata": {
    "ExecuteTime": {
     "end_time": "2025-02-23T20:01:08.060190Z",
     "start_time": "2025-02-23T20:01:08.050169Z"
    }
   },
   "cell_type": "code",
   "source": [
    "type_map = {\n",
    "    'object': 'category'\n",
    "}\n",
    "for column in df.columns:\n",
    "    original_data_type = df[column].dtype.name\n",
    "    if original_data_type in type_map:\n",
    "        df[column] = df[column].astype(type_map[original_data_type])"
   ],
   "id": "d132f29854fc8dea",
   "outputs": [],
   "execution_count": 6
  },
  {
   "metadata": {},
   "cell_type": "markdown",
   "source": "### D. Encoding Data",
   "id": "1cd0909ee7bb8c30"
  },
  {
   "metadata": {
    "ExecuteTime": {
     "end_time": "2025-02-23T20:01:11.892811Z",
     "start_time": "2025-02-23T20:01:11.886292Z"
    }
   },
   "cell_type": "code",
   "source": [
    "categorical_cols = df.select_dtypes(include=['category']).columns\n",
    "label_encoders = {}\n",
    "\n",
    "print(\"Encoding Guide:\")\n",
    "print(\"-\" * 50)\n",
    "\n",
    "for col in categorical_cols:\n",
    "    le = LabelEncoder()\n",
    "    df[col] = le.fit_transform(df[col])\n",
    "    label_encoders[col] = le\n",
    "\n",
    "    mapping = {index: label for index, label in enumerate(le.classes_)}\n",
    "    print(f\"Column: {col}\")\n",
    "    for original, encoded in mapping.items():\n",
    "        print(f\"  {encoded} -> {original}\")\n",
    "    print(\"-\" * 50)"
   ],
   "id": "16d96fd8db2526e2",
   "outputs": [
    {
     "name": "stdout",
     "output_type": "stream",
     "text": [
      "Encoding Guide:\n",
      "--------------------------------------------------\n",
      "Column: Attrition\n",
      "  No -> 0\n",
      "  Yes -> 1\n",
      "--------------------------------------------------\n",
      "Column: BusinessTravel\n",
      "  Non-Travel -> 0\n",
      "  Travel_Frequently -> 1\n",
      "  Travel_Rarely -> 2\n",
      "--------------------------------------------------\n",
      "Column: Department\n",
      "  Human Resources -> 0\n",
      "  Research & Development -> 1\n",
      "  Sales -> 2\n",
      "--------------------------------------------------\n",
      "Column: EducationField\n",
      "  Human Resources -> 0\n",
      "  Life Sciences -> 1\n",
      "  Marketing -> 2\n",
      "  Medical -> 3\n",
      "  Other -> 4\n",
      "  Technical Degree -> 5\n",
      "--------------------------------------------------\n",
      "Column: Gender\n",
      "  Female -> 0\n",
      "  Male -> 1\n",
      "--------------------------------------------------\n",
      "Column: JobRole\n",
      "  Healthcare Representative -> 0\n",
      "  Human Resources -> 1\n",
      "  Laboratory Technician -> 2\n",
      "  Manager -> 3\n",
      "  Manufacturing Director -> 4\n",
      "  Research Director -> 5\n",
      "  Research Scientist -> 6\n",
      "  Sales Executive -> 7\n",
      "  Sales Representative -> 8\n",
      "--------------------------------------------------\n",
      "Column: MaritalStatus\n",
      "  Divorced -> 0\n",
      "  Married -> 1\n",
      "  Single -> 2\n",
      "--------------------------------------------------\n",
      "Column: Over18\n",
      "  Y -> 0\n",
      "--------------------------------------------------\n",
      "Column: OverTime\n",
      "  No -> 0\n",
      "  Yes -> 1\n",
      "--------------------------------------------------\n"
     ]
    }
   ],
   "execution_count": 7
  },
  {
   "metadata": {},
   "cell_type": "markdown",
   "source": [
    "### E. GPU Availability Check\n",
    "Check if GPU is available and print GPU information"
   ],
   "id": "8a6e96a9a7e03e8e"
  },
  {
   "cell_type": "code",
   "id": "1b5294e7-38aa-4c43-8544-6530a735111f",
   "metadata": {
    "ExecuteTime": {
     "end_time": "2025-02-23T19:52:16.256711Z",
     "start_time": "2025-02-23T19:52:12.913647Z"
    }
   },
   "source": [
    "if torch.cuda.is_available():\n",
    "    print(\"GPU is available\")\n",
    "    print(f\"Number of GPUs: {torch.cuda.device_count()}\")\n",
    "    for i in range(torch.cuda.device_count()):\n",
    "        print(f\"GPU {i}: {torch.cuda.get_device_name(i)}\")\n",
    "else:\n",
    "    print(\"GPU is not available\")"
   ],
   "outputs": [
    {
     "name": "stdout",
     "output_type": "stream",
     "text": [
      "GPU is not available\n"
     ]
    }
   ],
   "execution_count": 1
  },
  {
   "metadata": {},
   "cell_type": "markdown",
   "source": [
    "### F. Tensor Creation\n",
    "Creating a tensor, while also getting tensor shape and data type"
   ],
   "id": "dc06723cf896426"
  },
  {
   "cell_type": "code",
   "id": "3e699188-596e-4a7f-bc7a-67a4968112df",
   "metadata": {
    "ExecuteTime": {
     "end_time": "2025-02-23T07:07:32.387667Z",
     "start_time": "2025-02-23T07:07:32.383337Z"
    }
   },
   "source": [
    "# Create a tensor\n",
    "tens = torch.tensor([[1,2,3],[4,5,6]])\n",
    "print(tens)\n",
    "\n",
    "# Get shape\n",
    "print(tens.shape)\n",
    "\n",
    "# Get data type\n",
    "print(tens.dtype)"
   ],
   "outputs": [
    {
     "name": "stdout",
     "output_type": "stream",
     "text": [
      "tensor([[1, 2, 3],\n",
      "        [4, 5, 6]])\n",
      "torch.Size([2, 3])\n",
      "torch.int64\n"
     ]
    }
   ],
   "execution_count": 6
  },
  {
   "cell_type": "code",
   "id": "93d96af8-c100-4e98-95ff-16b5b3999e70",
   "metadata": {
    "ExecuteTime": {
     "end_time": "2025-02-23T07:07:35.410693Z",
     "start_time": "2025-02-23T07:07:35.405176Z"
    }
   },
   "source": [
    "input_tensor = torch.tensor([0.3471, 0.4547, -0.2356])\n",
    "\n",
    "# Create a linear layer: 3 inputs -> 2 outputs\n",
    "linear_layer = nn.Linear(in_features=3, out_features=2)\n",
    "\n",
    "# Pass input through the linear layer\n",
    "output = linear_layer(input_tensor)\n",
    "print(output)\n",
    "\n",
    "# Print weights and biases\n",
    "print(linear_layer.weight)\n",
    "print(linear_layer.bias)"
   ],
   "outputs": [
    {
     "name": "stdout",
     "output_type": "stream",
     "text": [
      "tensor([-0.1518, -0.6213], grad_fn=<ViewBackward0>)\n",
      "Parameter containing:\n",
      "tensor([[ 0.5481,  0.1480, -0.3569],\n",
      "        [ 0.3619, -0.5508, -0.0148]], requires_grad=True)\n",
      "Parameter containing:\n",
      "tensor([-0.4935, -0.4999], requires_grad=True)\n"
     ]
    }
   ],
   "execution_count": 7
  }
 ],
 "metadata": {
  "kernelspec": {
   "display_name": "Python 3 (ipykernel)",
   "language": "python",
   "name": "python3"
  },
  "language_info": {
   "codemirror_mode": {
    "name": "ipython",
    "version": 3
   },
   "file_extension": ".py",
   "mimetype": "text/x-python",
   "name": "python",
   "nbconvert_exporter": "python",
   "pygments_lexer": "ipython3",
   "version": "3.12.7"
  }
 },
 "nbformat": 4,
 "nbformat_minor": 5
}
