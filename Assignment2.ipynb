{
 "cells": [
  {
   "cell_type": "code",
   "execution_count": 1,
   "id": "1b5294e7-38aa-4c43-8544-6530a735111f",
   "metadata": {},
   "outputs": [
    {
     "name": "stdout",
     "output_type": "stream",
     "text": [
      "GPU is available\n",
      "Number of GPUs: 1\n",
      "GPU 0: NVIDIA GeForce RTX 4070 Ti SUPER\n"
     ]
    }
   ],
   "source": [
    "import torch\n",
    "\n",
    "# Check if GPU is available and print GPU information\n",
    "if torch.cuda.is_available():\n",
    "    print(\"GPU is available\")\n",
    "    print(f\"Number of GPUs: {torch.cuda.device_count()}\")\n",
    "    for i in range(torch.cuda.device_count()):\n",
    "        print(f\"GPU {i}: {torch.cuda.get_device_name(i)}\")\n",
    "else:\n",
    "    print(\"GPU is not available\")"
   ]
  },
  {
   "cell_type": "code",
   "execution_count": 2,
   "id": "3e699188-596e-4a7f-bc7a-67a4968112df",
   "metadata": {},
   "outputs": [
    {
     "name": "stdout",
     "output_type": "stream",
     "text": [
      "tensor([[1, 2, 3],\n",
      "        [4, 5, 6]])\n",
      "torch.Size([2, 3])\n",
      "torch.int64\n"
     ]
    }
   ],
   "source": [
    "# Create a tensor\n",
    "tens = torch.tensor([[1,2,3],[4,5,6]])\n",
    "print(tens)\n",
    "\n",
    "# Get shape\n",
    "print(tens.shape)\n",
    "\n",
    "# Get data type\n",
    "print(tens.dtype)"
   ]
  },
  {
   "cell_type": "code",
   "execution_count": 3,
   "id": "93d96af8-c100-4e98-95ff-16b5b3999e70",
   "metadata": {},
   "outputs": [
    {
     "name": "stdout",
     "output_type": "stream",
     "text": [
      "tensor([-0.2796,  0.1021], grad_fn=<ViewBackward0>)\n",
      "Parameter containing:\n",
      "tensor([[-0.3054,  0.0689,  0.5136],\n",
      "        [ 0.2273,  0.5029,  0.1349]], requires_grad=True)\n",
      "Parameter containing:\n",
      "tensor([-0.0839, -0.1737], requires_grad=True)\n"
     ]
    }
   ],
   "source": [
    "import torch.nn as nn  # neural network module\n",
    "\n",
    "input_tensor = torch.tensor([0.3471, 0.4547, -0.2356])\n",
    "\n",
    "# Create a linear layer: 3 inputs -> 2 outputs\n",
    "linear_layer = nn.Linear(in_features=3, out_features=2)\n",
    "\n",
    "# Pass input through the linear layer\n",
    "output = linear_layer(input_tensor)\n",
    "print(output)\n",
    "\n",
    "# Print weights and biases\n",
    "print(linear_layer.weight)\n",
    "print(linear_layer.bias)"
   ]
  }
 ],
 "metadata": {
  "kernelspec": {
   "display_name": "Python 3 (ipykernel)",
   "language": "python",
   "name": "python3"
  },
  "language_info": {
   "codemirror_mode": {
    "name": "ipython",
    "version": 3
   },
   "file_extension": ".py",
   "mimetype": "text/x-python",
   "name": "python",
   "nbconvert_exporter": "python",
   "pygments_lexer": "ipython3",
   "version": "3.12.7"
  }
 },
 "nbformat": 4,
 "nbformat_minor": 5
}
