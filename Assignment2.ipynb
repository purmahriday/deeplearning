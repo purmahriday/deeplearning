{
 "cells": [
  {
   "cell_type": "code",
   "id": "1b5294e7-38aa-4c43-8544-6530a735111f",
   "metadata": {
    "ExecuteTime": {
     "end_time": "2025-02-23T06:25:17.864999Z",
     "start_time": "2025-02-23T06:25:15.579353Z"
    }
   },
   "source": [
    "import torch\n",
    "\n",
    "# Check if GPU is available and print GPU information\n",
    "if torch.cuda.is_available():\n",
    "    print(\"GPU is available\")\n",
    "    print(f\"Number of GPUs: {torch.cuda.device_count()}\")\n",
    "    for i in range(torch.cuda.device_count()):\n",
    "        print(f\"GPU {i}: {torch.cuda.get_device_name(i)}\")\n",
    "else:\n",
    "    print(\"GPU is not available\")"
   ],
   "outputs": [
    {
     "name": "stdout",
     "output_type": "stream",
     "text": [
      "GPU is available\n",
      "Number of GPUs: 1\n",
      "GPU 0: NVIDIA GeForce RTX 3070 Ti\n"
     ]
    }
   ],
   "execution_count": 1
  },
  {
   "cell_type": "code",
   "id": "3e699188-596e-4a7f-bc7a-67a4968112df",
   "metadata": {
    "ExecuteTime": {
     "end_time": "2025-02-23T06:25:36.666554Z",
     "start_time": "2025-02-23T06:25:36.659190Z"
    }
   },
   "source": [
    "# Create a tensor\n",
    "tens = torch.tensor([[1,2,3],[4,5,6]])\n",
    "print(tens)\n",
    "\n",
    "# Get shape\n",
    "print(tens.shape)\n",
    "\n",
    "# Get data type\n",
    "print(tens.dtype)"
   ],
   "outputs": [
    {
     "name": "stdout",
     "output_type": "stream",
     "text": [
      "tensor([[1, 2, 3],\n",
      "        [4, 5, 6]])\n",
      "torch.Size([2, 3])\n",
      "torch.int64\n"
     ]
    }
   ],
   "execution_count": 2
  },
  {
   "cell_type": "code",
   "id": "93d96af8-c100-4e98-95ff-16b5b3999e70",
   "metadata": {
    "ExecuteTime": {
     "end_time": "2025-02-23T06:25:40.884341Z",
     "start_time": "2025-02-23T06:25:40.876837Z"
    }
   },
   "source": [
    "import torch.nn as nn  # neural network module\n",
    "\n",
    "input_tensor = torch.tensor([0.3471, 0.4547, -0.2356])\n",
    "\n",
    "# Create a linear layer: 3 inputs -> 2 outputs\n",
    "linear_layer = nn.Linear(in_features=3, out_features=2)\n",
    "\n",
    "# Pass input through the linear layer\n",
    "output = linear_layer(input_tensor)\n",
    "print(output)\n",
    "\n",
    "# Print weights and biases\n",
    "print(linear_layer.weight)\n",
    "print(linear_layer.bias)"
   ],
   "outputs": [
    {
     "name": "stdout",
     "output_type": "stream",
     "text": [
      "tensor([-0.3312, -0.1955], grad_fn=<ViewBackward0>)\n",
      "Parameter containing:\n",
      "tensor([[-0.3755, -0.2184,  0.2502],\n",
      "        [-0.5314, -0.0355,  0.3870]], requires_grad=True)\n",
      "Parameter containing:\n",
      "tensor([-0.0426,  0.0963], requires_grad=True)\n"
     ]
    }
   ],
   "execution_count": 3
  }
 ],
 "metadata": {
  "kernelspec": {
   "display_name": "Python 3 (ipykernel)",
   "language": "python",
   "name": "python3"
  },
  "language_info": {
   "codemirror_mode": {
    "name": "ipython",
    "version": 3
   },
   "file_extension": ".py",
   "mimetype": "text/x-python",
   "name": "python",
   "nbconvert_exporter": "python",
   "pygments_lexer": "ipython3",
   "version": "3.12.7"
  }
 },
 "nbformat": 4,
 "nbformat_minor": 5
}
